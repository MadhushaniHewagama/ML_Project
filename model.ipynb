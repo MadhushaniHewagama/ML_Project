{
 "cells": [
  {
   "cell_type": "code",
   "execution_count": 1,
   "metadata": {},
   "outputs": [],
   "source": [
    "import numpy as np \n",
    "import pandas as pd\n",
    "import matplotlib.pyplot as plt\n",
    "import seaborn as sns\n",
    "import warnings\n",
    "import matplotlib.pyplot as plt\n",
    "\n",
    "warnings.filterwarnings('ignore')\n",
    "get_ipython().run_line_magic('matplotlib', 'inline')"
   ]
  },
  {
   "cell_type": "code",
   "execution_count": 42,
   "metadata": {},
   "outputs": [],
   "source": [
    "train_csv = pd.read_csv('train.csv')\n",
    "final_csv = pd.read_csv('test.csv')"
   ]
  },
  {
   "cell_type": "code",
   "execution_count": 43,
   "metadata": {},
   "outputs": [
    {
     "data": {
      "text/plain": [
       "Index(['tripid', 'additional_fare', 'duration', 'meter_waiting',\n",
       "       'meter_waiting_fare', 'meter_waiting_till_pickup', 'pickup_time',\n",
       "       'drop_time', 'pick_lat', 'pick_lon', 'drop_lat', 'drop_lon', 'fare',\n",
       "       'label'],\n",
       "      dtype='object')"
      ]
     },
     "execution_count": 43,
     "metadata": {},
     "output_type": "execute_result"
    }
   ],
   "source": [
    "train_csv.columns"
   ]
  },
  {
   "cell_type": "code",
   "execution_count": 44,
   "metadata": {},
   "outputs": [],
   "source": [
    "def show_null_count(csv):\n",
    "    idx = csv.isnull().sum()\n",
    "    idx = idx[idx>0]\n",
    "    idx.sort_values(inplace=True)\n",
    "    idx.plot.bar()"
   ]
  },
  {
   "cell_type": "code",
   "execution_count": 45,
   "metadata": {},
   "outputs": [],
   "source": [
    "# def get_corr(col, csv):\n",
    "#     corr = csv.corr()[col]\n",
    "#     idx_gt0 = corr[corr>0].sort_values(ascending=False).index.tolist()\n",
    "#     return corr[idx_gt0]\n"
   ]
  },
  {
   "cell_type": "code",
   "execution_count": 46,
   "metadata": {},
   "outputs": [
    {
     "data": {
      "image/png": "[encoded data removed]",
      "text/plain": [
       "<Figure size 432x288 with 1 Axes>"
      ]
     },
     "metadata": {
      "needs_background": "light"
     },
     "output_type": "display_data"
    }
   ],
   "source": [
    "show_null_count(train_csv)"
   ]
  },
  {
   "cell_type": "code",
   "execution_count": 47,
   "metadata": {},
   "outputs": [],
   "source": [
    "# sns.heatmap(train_csv.corr(), vmax=.8, square=True)"
   ]
  },
  {
   "cell_type": "code",
   "execution_count": 48,
   "metadata": {},
   "outputs": [],
   "source": [
    "\n",
    "# sns.pairplot(train_csv[['fare']].dropna())\n",
    "# train_csv['fare'].value_counts()\n"
   ]
  },
  {
   "cell_type": "code",
   "execution_count": 49,
   "metadata": {},
   "outputs": [
    {
     "data": {
      "text/html": [
       "<div>\n",
       "<style scoped>\n",
       "    .dataframe tbody tr th:only-of-type {\n",
       "        vertical-align: middle;\n",
       "    }\n",
       "\n",
       "    .dataframe tbody tr th {\n",
       "        vertical-align: top;\n",
       "    }\n",
       "\n",
       "    .dataframe thead th {\n",
       "        text-align: right;\n",
       "    }\n",
       "</style>\n",
       "<table border=\"1\" class=\"dataframe\">\n",
       "  <thead>\n",
       "    <tr style=\"text-align: right;\">\n",
       "      <th></th>\n",
       "      <th>tripid</th>\n",
       "      <th>additional_fare</th>\n",
       "      <th>duration</th>\n",
       "      <th>meter_waiting</th>\n",
       "      <th>meter_waiting_fare</th>\n",
       "      <th>meter_waiting_till_pickup</th>\n",
       "      <th>pick_lat</th>\n",
       "      <th>pick_lon</th>\n",
       "      <th>drop_lat</th>\n",
       "      <th>drop_lon</th>\n",
       "      <th>fare</th>\n",
       "    </tr>\n",
       "  </thead>\n",
       "  <tbody>\n",
       "    <tr>\n",
       "      <th>count</th>\n",
       "      <td>1.717600e+04</td>\n",
       "      <td>16974.000000</td>\n",
       "      <td>16974.000000</td>\n",
       "      <td>16974.000000</td>\n",
       "      <td>16974.000000</td>\n",
       "      <td>16974.000000</td>\n",
       "      <td>17176.000000</td>\n",
       "      <td>17176.000000</td>\n",
       "      <td>17176.000000</td>\n",
       "      <td>17176.000000</td>\n",
       "      <td>17039.000000</td>\n",
       "    </tr>\n",
       "    <tr>\n",
       "      <th>mean</th>\n",
       "      <td>2.014549e+08</td>\n",
       "      <td>13.719651</td>\n",
       "      <td>1702.858077</td>\n",
       "      <td>629.074231</td>\n",
       "      <td>32.057666</td>\n",
       "      <td>112.466832</td>\n",
       "      <td>6.965499</td>\n",
       "      <td>79.998389</td>\n",
       "      <td>6.968587</td>\n",
       "      <td>79.997534</td>\n",
       "      <td>312.655466</td>\n",
       "    </tr>\n",
       "    <tr>\n",
       "      <th>std</th>\n",
       "      <td>7.456830e+06</td>\n",
       "      <td>98.975052</td>\n",
       "      <td>8120.160818</td>\n",
       "      <td>8063.260669</td>\n",
       "      <td>465.483573</td>\n",
       "      <td>442.054812</td>\n",
       "      <td>0.210760</td>\n",
       "      <td>0.243384</td>\n",
       "      <td>0.378669</td>\n",
       "      <td>0.359648</td>\n",
       "      <td>605.300565</td>\n",
       "    </tr>\n",
       "    <tr>\n",
       "      <th>min</th>\n",
       "      <td>1.891236e+08</td>\n",
       "      <td>0.000000</td>\n",
       "      <td>0.000000</td>\n",
       "      <td>0.000000</td>\n",
       "      <td>0.000000</td>\n",
       "      <td>0.000000</td>\n",
       "      <td>5.937600</td>\n",
       "      <td>79.819100</td>\n",
       "      <td>5.941860</td>\n",
       "      <td>45.307700</td>\n",
       "      <td>0.000000</td>\n",
       "    </tr>\n",
       "    <tr>\n",
       "      <th>25%</th>\n",
       "      <td>1.947619e+08</td>\n",
       "      <td>10.500000</td>\n",
       "      <td>548.000000</td>\n",
       "      <td>33.000000</td>\n",
       "      <td>0.000000</td>\n",
       "      <td>26.000000</td>\n",
       "      <td>6.865077</td>\n",
       "      <td>79.870400</td>\n",
       "      <td>6.865625</td>\n",
       "      <td>79.870100</td>\n",
       "      <td>125.515000</td>\n",
       "    </tr>\n",
       "    <tr>\n",
       "      <th>50%</th>\n",
       "      <td>2.013582e+08</td>\n",
       "      <td>10.500000</td>\n",
       "      <td>1009.500000</td>\n",
       "      <td>123.000000</td>\n",
       "      <td>0.116600</td>\n",
       "      <td>73.000000</td>\n",
       "      <td>6.914105</td>\n",
       "      <td>79.898600</td>\n",
       "      <td>6.916160</td>\n",
       "      <td>79.899100</td>\n",
       "      <td>211.180000</td>\n",
       "    </tr>\n",
       "    <tr>\n",
       "      <th>75%</th>\n",
       "      <td>2.083081e+08</td>\n",
       "      <td>10.500000</td>\n",
       "      <td>1803.000000</td>\n",
       "      <td>351.000000</td>\n",
       "      <td>14.341800</td>\n",
       "      <td>144.000000</td>\n",
       "      <td>7.043057</td>\n",
       "      <td>79.956600</td>\n",
       "      <td>7.047195</td>\n",
       "      <td>79.960225</td>\n",
       "      <td>366.465000</td>\n",
       "    </tr>\n",
       "    <tr>\n",
       "      <th>max</th>\n",
       "      <td>2.138173e+08</td>\n",
       "      <td>12795.030000</td>\n",
       "      <td>453872.000000</td>\n",
       "      <td>453650.000000</td>\n",
       "      <td>26198.601400</td>\n",
       "      <td>51288.000000</td>\n",
       "      <td>8.051010</td>\n",
       "      <td>81.009600</td>\n",
       "      <td>48.132000</td>\n",
       "      <td>81.009700</td>\n",
       "      <td>26945.990000</td>\n",
       "    </tr>\n",
       "  </tbody>\n",
       "</table>\n",
       "</div>"
      ],
      "text/plain": [
       "             tripid  additional_fare       duration  meter_waiting  \\\n",
       "count  1.717600e+04     16974.000000   16974.000000   16974.000000   \n",
       "mean   2.014549e+08        13.719651    1702.858077     629.074231   \n",
       "std    7.456830e+06        98.975052    8120.160818    8063.260669   \n",
       "min    1.891236e+08         0.000000       0.000000       0.000000   \n",
       "25%    1.947619e+08        10.500000     548.000000      33.000000   \n",
       "50%    2.013582e+08        10.500000    1009.500000     123.000000   \n",
       "75%    2.083081e+08        10.500000    1803.000000     351.000000   \n",
       "max    2.138173e+08     12795.030000  453872.000000  453650.000000   \n",
       "\n",
       "       meter_waiting_fare  meter_waiting_till_pickup      pick_lat  \\\n",
       "count        16974.000000               16974.000000  17176.000000   \n",
       "mean            32.057666                 112.466832      6.965499   \n",
       "std            465.483573                 442.054812      0.210760   \n",
       "min              0.000000                   0.000000      5.937600   \n",
       "25%              0.000000                  26.000000      6.865077   \n",
       "50%              0.116600                  73.000000      6.914105   \n",
       "75%             14.341800                 144.000000      7.043057   \n",
       "max          26198.601400               51288.000000      8.051010   \n",
       "\n",
       "           pick_lon      drop_lat      drop_lon          fare  \n",
       "count  17176.000000  17176.000000  17176.000000  17039.000000  \n",
       "mean      79.998389      6.968587     79.997534    312.655466  \n",
       "std        0.243384      0.378669      0.359648    605.300565  \n",
       "min       79.819100      5.941860     45.307700      0.000000  \n",
       "25%       79.870400      6.865625     79.870100    125.515000  \n",
       "50%       79.898600      6.916160     79.899100    211.180000  \n",
       "75%       79.956600      7.047195     79.960225    366.465000  \n",
       "max       81.009600     48.132000     81.009700  26945.990000  "
      ]
     },
     "execution_count": 49,
     "metadata": {},
     "output_type": "execute_result"
    }
   ],
   "source": [
    "train_csv.describe()"
   ]
  },
  {
   "cell_type": "code",
   "execution_count": 50,
   "metadata": {},
   "outputs": [],
   "source": [
    "# print(get_corr('additional_fare', train_csv))\n"
   ]
  },
  {
   "cell_type": "code",
   "execution_count": 51,
   "metadata": {},
   "outputs": [],
   "source": [
    "# upper_lim = train_csv['additional_fare'].quantile(.95)\n",
    "# lower_lim = train_csv['additional_fare'].quantile(.05)\n",
    "# train_csv = train_csv[(train_csv['additional_fare'] < upper_lim) & (train_csv['additional_fare'] > lower_lim)]\n",
    "\n",
    "# upper_lim = train_csv['duration'].quantile(.95)\n",
    "# lower_lim = train_csv['duration'].quantile(.05)\n",
    "# train_csv = train_csv[(train_csv['duration'] < upper_lim) & (train_csv['duration'] > lower_lim)]\n",
    "\n",
    "# upper_lim = train_csv['meter_waiting'].quantile(.95)\n",
    "# lower_lim = train_csv['meter_waiting'].quantile(.05)\n",
    "# train_csv = train_csv[(train_csv['meter_waiting'] < upper_lim) & (train_csv['meter_waiting'] > lower_lim)]\n",
    "\n",
    "# upper_lim = train_csv['meter_waiting_fare'].quantile(.95)\n",
    "# lower_lim = train_csv['meter_waiting_fare'].quantile(.05)\n",
    "# train_csv = train_csv[(train_csv['meter_waiting_fare'] < upper_lim) & (train_csv['meter_waiting_fare'] > lower_lim)]\n",
    "\n",
    "# upper_lim = train_csv['meter_waiting_till_pickup'].quantile(.95)\n",
    "# lower_lim = train_csv['meter_waiting_till_pickup'].quantile(.05)\n",
    "# train_csv = train_csv[(train_csv['meter_waiting_till_pickup'] < upper_lim) & (train_csv['meter_waiting_till_pickup'] > lower_lim)]\n",
    "\n",
    "# upper_lim = train_csv['pick_lat'].quantile(.95)\n",
    "# lower_lim = train_csv['pick_lat'].quantile(.05)\n",
    "# train_csv = train_csv[(train_csv['pick_lat'] < upper_lim) & (train_csv['pick_lat'] > lower_lim)]\n",
    "\n",
    "# upper_lim = train_csv['pick_lon'].quantile(.95)\n",
    "# lower_lim = train_csv['pick_lon'].quantile(.05)\n",
    "# train_csv = train_csv[(train_csv['pick_lon'] < upper_lim) & (train_csv['pick_lon'] > lower_lim)]\n",
    "\n",
    "# upper_lim = train_csv['drop_lat'].quantile(.95)\n",
    "# lower_lim = train_csv['drop_lat'].quantile(.05)\n",
    "# train_csv = train_csv[(train_csv['drop_lat'] < upper_lim) & (train_csv['drop_lat'] > lower_lim)]\n",
    "\n",
    "# upper_lim = train_csv['drop_lon'].quantile(.95)\n",
    "# lower_lim = train_csv['drop_lon'].quantile(.05)\n",
    "# train_csv = train_csv[(train_csv['drop_lon'] < upper_lim) & (train_csv['drop_lon'] > lower_lim)]\n",
    "\n",
    "# upper_lim = train_csv['fare'].quantile(.95)\n",
    "# lower_lim = train_csv['fare'].quantile(.05)\n",
    "# train_csv = train_csv[(train_csv['fare'] < upper_lim) & (train_csv['fare'] > lower_lim)]\n"
   ]
  },
  {
   "cell_type": "code",
   "execution_count": 52,
   "metadata": {},
   "outputs": [],
   "source": [
    "from datetime import datetime\n",
    "def find_time(csv):\n",
    "    t2_data=csv['drop_time']\n",
    "    t1_data=csv['pickup_time']\n",
    "    data=[]\n",
    "    for i in range(0,len(t2_data)):\n",
    "        t2=datetime.strptime(t2_data[i],'%m/%d/%Y %H:%M')\n",
    "        t1=datetime.strptime(t1_data[i],'%m/%d/%Y %H:%M')\n",
    "        tdelta = (t2 - t1).total_seconds()\n",
    "        data.append(float(tdelta))     \n",
    "    csv['time']=data\n",
    "find_time(train_csv)"
   ]
  },
  {
   "cell_type": "code",
   "execution_count": 53,
   "metadata": {},
   "outputs": [],
   "source": [
    "train_csv['label']=train_csv['label'].replace('incorrect',int(0))"
   ]
  },
  {
   "cell_type": "code",
   "execution_count": 54,
   "metadata": {},
   "outputs": [],
   "source": [
    "train_csv['label']=train_csv['label'].replace('correct',int(1))"
   ]
  },
  {
   "cell_type": "code",
   "execution_count": 55,
   "metadata": {},
   "outputs": [
    {
     "name": "stdout",
     "output_type": "stream",
     "text": [
      "      tripid  additional_fare  duration  meter_waiting  meter_waiting_fare  \\\n",
      "0  189123628             10.5     834.0           56.0              0.0000   \n",
      "1  189125358             10.5     791.0           47.0              0.0000   \n",
      "2  189125719             10.5    1087.0           80.0              0.0000   \n",
      "3  189127273             10.5     598.0          271.0             15.6638   \n",
      "4  189128020              NaN       NaN            NaN                 NaN   \n",
      "\n",
      "   meter_waiting_till_pickup     pickup_time       drop_time  pick_lat  \\\n",
      "0                       64.0  11/1/2019 0:20  11/1/2019 0:34   6.86252   \n",
      "1                      134.0  11/1/2019 0:56  11/1/2019 1:09   6.88589   \n",
      "2                       61.0  11/1/2019 1:08  11/1/2019 1:26   6.90839   \n",
      "3                       68.0  11/1/2019 2:27  11/1/2019 2:37   6.92570   \n",
      "4                        NaN  11/1/2019 3:34  11/1/2019 3:51   6.87441   \n",
      "\n",
      "   pick_lon  drop_lat  drop_lon    fare  label    time  \n",
      "0   79.8993   6.90330   79.8783  270.32      1   840.0  \n",
      "1   79.8984   6.91373   79.8923  197.85      1   780.0  \n",
      "2   79.8651   6.93669   79.9146  301.64      1  1080.0  \n",
      "3   79.8895   6.92748   79.8971   82.30      1   600.0  \n",
      "4   79.8615   6.84478   79.9290  358.39      1  1020.0  \n"
     ]
    }
   ],
   "source": [
    "print(train_csv.head(n=5))"
   ]
  },
  {
   "cell_type": "code",
   "execution_count": 56,
   "metadata": {},
   "outputs": [
    {
     "data": {
      "text/plain": [
       "tripid                         0\n",
       "additional_fare              202\n",
       "duration                     202\n",
       "meter_waiting                202\n",
       "meter_waiting_fare           202\n",
       "meter_waiting_till_pickup    202\n",
       "pickup_time                    0\n",
       "drop_time                      0\n",
       "pick_lat                       0\n",
       "pick_lon                       0\n",
       "drop_lat                       0\n",
       "drop_lon                       0\n",
       "fare                         137\n",
       "label                          0\n",
       "time                           0\n",
       "dtype: int64"
      ]
     },
     "execution_count": 56,
     "metadata": {},
     "output_type": "execute_result"
    }
   ],
   "source": [
    "# train_csv.dropna(axis = 0, how ='any',inplace=True)\n",
    "# train_csv.reset_index(drop=True,inplace=True)\n",
    "train_csv.isnull().sum()"
   ]
  },
  {
   "cell_type": "code",
   "execution_count": 57,
   "metadata": {},
   "outputs": [],
   "source": [
    "from sklearn.impute import SimpleImputer\n",
    "imp = SimpleImputer(missing_values=np.nan, strategy='mean')\n",
    "imp.fit(train_csv[['additional_fare']])\n",
    "train_csv[['additional_fare']]=imp.transform(train_csv[['additional_fare']])\n",
    "\n",
    "imp.fit(train_csv[['duration']])\n",
    "train_csv[['duration']]=imp.transform(train_csv[['duration']])\n",
    "\n",
    "# imp.fit(train_csv[['meter_waiting']])\n",
    "# train_csv[['meter_waiting']]=imp.transform(train_csv[['meter_waiting']])\n",
    "\n",
    "# imp.fit(train_csv[['meter_waiting_fare']])\n",
    "# train_csv[['meter_waiting_fare']]=imp.transform(train_csv[['meter_waiting_fare']])\n",
    "\n",
    "# imp.fit(train_csv[['meter_waiting_till_pickup']])\n",
    "# train_csv[['meter_waiting_till_pickup']]=imp.transform(train_csv[['meter_waiting_till_pickup']])\n",
    "\n",
    "imp.fit(train_csv[['fare']])\n",
    "train_csv[['fare']]=imp.transform(train_csv[['fare']])"
   ]
  },
  {
   "cell_type": "code",
   "execution_count": 58,
   "metadata": {},
   "outputs": [
    {
     "name": "stdout",
     "output_type": "stream",
     "text": [
      "      tripid  additional_fare     duration  meter_waiting  meter_waiting_fare  \\\n",
      "0  189123628        10.500000   834.000000           56.0              0.0000   \n",
      "1  189125358        10.500000   791.000000           47.0              0.0000   \n",
      "2  189125719        10.500000  1087.000000           80.0              0.0000   \n",
      "3  189127273        10.500000   598.000000          271.0             15.6638   \n",
      "4  189128020        13.719651  1702.858077            NaN                 NaN   \n",
      "\n",
      "   meter_waiting_till_pickup     pickup_time       drop_time  pick_lat  \\\n",
      "0                       64.0  11/1/2019 0:20  11/1/2019 0:34   6.86252   \n",
      "1                      134.0  11/1/2019 0:56  11/1/2019 1:09   6.88589   \n",
      "2                       61.0  11/1/2019 1:08  11/1/2019 1:26   6.90839   \n",
      "3                       68.0  11/1/2019 2:27  11/1/2019 2:37   6.92570   \n",
      "4                        NaN  11/1/2019 3:34  11/1/2019 3:51   6.87441   \n",
      "\n",
      "   pick_lon  drop_lat  drop_lon    fare  label    time  \n",
      "0   79.8993   6.90330   79.8783  270.32      1   840.0  \n",
      "1   79.8984   6.91373   79.8923  197.85      1   780.0  \n",
      "2   79.8651   6.93669   79.9146  301.64      1  1080.0  \n",
      "3   79.8895   6.92748   79.8971   82.30      1   600.0  \n",
      "4   79.8615   6.84478   79.9290  358.39      1  1020.0  \n"
     ]
    }
   ],
   "source": [
    "print(train_csv.head(n=5))"
   ]
  },
  {
   "cell_type": "code",
   "execution_count": 59,
   "metadata": {},
   "outputs": [
    {
     "data": {
      "text/plain": [
       "array([1.05000000e+01, 1.37196506e+01, 5.00000000e+00, 6.05000000e+01,\n",
       "       4.05000000e+01, 3.50000000e+01, 0.00000000e+00, 5.50000000e+01,\n",
       "       1.10500000e+02, 1.11000000e+02, 2.10000000e+01, 2.05000000e+01,\n",
       "       7.05000000e+01, 1.10000000e+01, 8.05000000e+01, 7.50000000e+01,\n",
       "       1.05000000e+02, 2.21000000e+02, 8.10000000e+01, 4.50820000e+02,\n",
       "       1.00000000e+01, 2.10500000e+02, 3.05000000e+01, 2.50000000e+01,\n",
       "       1.27950300e+04, 9.15000000e+01, 8.55000000e+01, 8.00000000e+01,\n",
       "       6.10000000e+01])"
      ]
     },
     "execution_count": 59,
     "metadata": {},
     "output_type": "execute_result"
    }
   ],
   "source": [
    "train_csv['additional_fare'].unique()\n"
   ]
  },
  {
   "cell_type": "code",
   "execution_count": 60,
   "metadata": {},
   "outputs": [
    {
     "data": {
      "text/plain": [
       "tripid                         0\n",
       "additional_fare                0\n",
       "duration                       0\n",
       "meter_waiting                202\n",
       "meter_waiting_fare           202\n",
       "meter_waiting_till_pickup    202\n",
       "pickup_time                    0\n",
       "drop_time                      0\n",
       "pick_lat                       0\n",
       "pick_lon                       0\n",
       "drop_lat                       0\n",
       "drop_lon                       0\n",
       "fare                           0\n",
       "label                          0\n",
       "time                           0\n",
       "dtype: int64"
      ]
     },
     "execution_count": 60,
     "metadata": {},
     "output_type": "execute_result"
    }
   ],
   "source": [
    "train_csv.isnull().sum()"
   ]
  },
  {
   "cell_type": "code",
   "execution_count": 100,
   "metadata": {},
   "outputs": [
    {
     "data": {
      "image/png": "[encoded data removed]",
      "text/plain": [
       "<Figure size 432x288 with 1 Axes>"
      ]
     },
     "metadata": {
      "needs_background": "light"
     },
     "output_type": "display_data"
    }
   ],
   "source": [
    "train_csv.label.value_counts().plot(kind='bar', title='Count (label)');"
   ]
  },
  {
   "cell_type": "code",
   "execution_count": 105,
   "metadata": {},
   "outputs": [],
   "source": [
    "# from sklearn.datasets import make_classification\n",
    "# X, y = make_classification(\n",
    "#     n_classes=2, class_sep=1.5, weights=[0.9, 0.1],\n",
    "#     n_informative=3, n_redundant=1, flip_y=0,\n",
    "#     n_features=20, n_clusters_per_class=1,\n",
    "#     n_samples=100, random_state=10\n",
    "# )\n"
   ]
  },
  {
   "cell_type": "code",
   "execution_count": 106,
   "metadata": {},
   "outputs": [],
   "source": [
    "# def plot_2d_space(X, y, label='Classes'):   \n",
    "#     colors = ['#1F77B4', '#FF7F0E']\n",
    "#     markers = ['o', 's']\n",
    "#     for l, c, m in zip(np.unique(y), colors, markers):\n",
    "#         plt.scatter(\n",
    "#             X[y==l, 0],\n",
    "#             X[y==l, 1],\n",
    "#             c=c, label=l, marker=m\n",
    "#         )\n",
    "#     plt.title(label)\n",
    "#     plt.legend(loc='upper right')\n",
    "#     plt.show()"
   ]
  },
  {
   "cell_type": "code",
   "execution_count": 107,
   "metadata": {},
   "outputs": [],
   "source": [
    "# from sklearn.decomposition import PCA\n",
    "\n",
    "# # pca = PCA(n_components=2)\n",
    "# # labels = ['Class 0', 'Class 1']\n",
    "# X = train_csv['tripid']\n",
    "# y=train_csv['fare']\n",
    "# plot_2d_space(X, y, 'Imbalanced dataset (2 PCA components)')"
   ]
  },
  {
   "cell_type": "code",
   "execution_count": 96,
   "metadata": {},
   "outputs": [],
   "source": [
    "# train_csv['additional_fare_bin'] = pd.cut(train_csv['additional_fare'], bins=[0,6,11,31,61,int(max(train_csv['additional_fare'] ))+1], labels=['v_l','l','m','h','v_h'])"
   ]
  },
  {
   "cell_type": "code",
   "execution_count": 62,
   "metadata": {},
   "outputs": [],
   "source": [
    "# train_csv['additional_fare_bin'].unique()"
   ]
  },
  {
   "cell_type": "code",
   "execution_count": 63,
   "metadata": {},
   "outputs": [],
   "source": [
    "# train_csv.dropna(axis = 0, how ='any',inplace=True)\n",
    "# train_csv.reset_index(drop=True,inplace=True)\n",
    "# train_csv.isnull().sum()"
   ]
  },
  {
   "cell_type": "code",
   "execution_count": 64,
   "metadata": {},
   "outputs": [],
   "source": [
    "import math\n",
    "def find_distance(csv):\n",
    "    lat1=csv['pick_lat']\n",
    "    lat2=csv['drop_lat']\n",
    "    lon1=csv['pick_lon']\n",
    "    lon2=csv['drop_lon']\n",
    "    distance=[]\n",
    "    R = 6373.0\n",
    "    for i in range(0,len(lat1)):\n",
    "        la1=math.radians(lat1[i])\n",
    "        lo1=math.radians(lon1[i])\n",
    "        la2=math.radians(lat2[i])\n",
    "        lo2=math.radians(lon2[i])\n",
    "        dlo=lo2-lo1\n",
    "        dla=la2-la1\n",
    "        a = math.sin(dla / 2)**2 + math.cos(la1) * math.cos(la2) * math.sin(dlo / 2)**2\n",
    "        c = 2 * math.atan2(math.sqrt(a), math.sqrt(1 - a))\n",
    "        d = R * c\n",
    "        distance.append(d)\n",
    "    csv['distance']=distance\n",
    "\n",
    "find_distance(train_csv)"
   ]
  },
  {
   "cell_type": "code",
   "execution_count": 65,
   "metadata": {},
   "outputs": [],
   "source": [
    "def find_duration(csv):\n",
    "    time=csv['time']\n",
    "    duration=csv['duration']\n",
    "    distance=csv['distance']\n",
    "    waiting=csv['meter_waiting']\n",
    "    fare=csv['fare']\n",
    "    data1=[]\n",
    "    data2=[]\n",
    "    for i in range(0,len(time)):\n",
    "        data2.append((duration[i]-waiting[i])/fare[i])\n",
    "        data1.append(distance[i]/(time[i]))\n",
    "\n",
    "    csv['speed']=data1\n",
    "    csv['fare-time']=data2\n",
    "find_duration(train_csv)"
   ]
  },
  {
   "cell_type": "code",
   "execution_count": 66,
   "metadata": {},
   "outputs": [
    {
     "data": {
      "text/plain": [
       "tripid                         0\n",
       "additional_fare                0\n",
       "duration                       0\n",
       "meter_waiting                202\n",
       "meter_waiting_fare           202\n",
       "meter_waiting_till_pickup    202\n",
       "pickup_time                    0\n",
       "drop_time                      0\n",
       "pick_lat                       0\n",
       "pick_lon                       0\n",
       "drop_lat                       0\n",
       "drop_lon                       0\n",
       "fare                           0\n",
       "label                          0\n",
       "time                           0\n",
       "distance                       0\n",
       "speed                          8\n",
       "fare-time                    204\n",
       "dtype: int64"
      ]
     },
     "execution_count": 66,
     "metadata": {},
     "output_type": "execute_result"
    }
   ],
   "source": [
    "train_csv.isnull().sum()"
   ]
  },
  {
   "cell_type": "code",
   "execution_count": 67,
   "metadata": {},
   "outputs": [],
   "source": [
    "train_csv.drop(['tripid','pickup_time','drop_time','pick_lat','pick_lon','drop_lat','drop_lon'],axis=1,inplace=True)\n"
   ]
  },
  {
   "cell_type": "code",
   "execution_count": 68,
   "metadata": {},
   "outputs": [
    {
     "data": {
      "text/plain": [
       "additional_fare                0\n",
       "duration                       0\n",
       "meter_waiting                202\n",
       "meter_waiting_fare           202\n",
       "meter_waiting_till_pickup    202\n",
       "fare                           0\n",
       "label                          0\n",
       "time                           0\n",
       "distance                       0\n",
       "speed                          8\n",
       "fare-time                    204\n",
       "dtype: int64"
      ]
     },
     "execution_count": 68,
     "metadata": {},
     "output_type": "execute_result"
    }
   ],
   "source": [
    "train_csv.isnull().sum()"
   ]
  },
  {
   "cell_type": "code",
   "execution_count": 70,
   "metadata": {},
   "outputs": [],
   "source": [
    "# print(get_corr('fare', train_csv))"
   ]
  },
  {
   "cell_type": "code",
   "execution_count": 71,
   "metadata": {},
   "outputs": [],
   "source": [
    "# def waiting(csv):\n",
    "#     time=csv[\"meter_waiting\"]\n",
    "#     fare=csv['meter_waiting_fare']\n",
    "#     waiting=[]\n",
    "#     for i in range(0,len(time)):\n",
    "#         if(int(time[i]/200)==int(fare[i]/15)):\n",
    "#            waiting.append(1)\n",
    "#         else:\n",
    "#            waiting.append(0)     \n",
    "#     csv['waiting']=waiting        \n",
    "    \n",
    "# waiting(train_csv)"
   ]
  },
  {
   "cell_type": "code",
   "execution_count": 72,
   "metadata": {},
   "outputs": [
    {
     "data": {
      "text/plain": [
       "5611.282394727175"
      ]
     },
     "execution_count": 72,
     "metadata": {},
     "output_type": "execute_result"
    }
   ],
   "source": [
    "max(train_csv['distance'])"
   ]
  },
  {
   "cell_type": "code",
   "execution_count": 73,
   "metadata": {},
   "outputs": [
    {
     "data": {
      "image/png": "[encoded data removed]",
      "text/plain": [
       "<Figure size 1440x864 with 2 Axes>"
      ]
     },
     "metadata": {
      "needs_background": "light"
     },
     "output_type": "display_data"
    }
   ],
   "source": [
    "sns.heatmap(train_csv.corr(),annot=True,cmap='RdYlGn',linewidths=0.2)\n",
    "fig=plt.gcf()\n",
    "fig.set_size_inches(20,12)\n",
    "plt.show()"
   ]
  },
  {
   "cell_type": "code",
   "execution_count": 74,
   "metadata": {},
   "outputs": [],
   "source": [
    "# def throttling(arr, thres):\n",
    "#     #res = arr.copy()\n",
    "#     res = np.zeros(len(arr))\n",
    "#     res[arr >= thres] = int(1)\n",
    "#     res[arr < thres] = int(0)\n",
    "#     return res"
   ]
  },
  {
   "cell_type": "code",
   "execution_count": 75,
   "metadata": {},
   "outputs": [],
   "source": [
    "from sklearn.model_selection import train_test_split"
   ]
  },
  {
   "cell_type": "code",
   "execution_count": 76,
   "metadata": {},
   "outputs": [],
   "source": [
    "x_train,x_test,y_train,y_test = train_test_split(train_csv.drop('label', axis=1),\n",
    "                                                 train_csv['label'],\n",
    "                                                 test_size=0.33,\n",
    "                                                 random_state=123)\n"
   ]
  },
  {
   "cell_type": "code",
   "execution_count": 77,
   "metadata": {},
   "outputs": [],
   "source": [
    "from xgboost import XGBClassifier"
   ]
  },
  {
   "cell_type": "code",
   "execution_count": 78,
   "metadata": {},
   "outputs": [],
   "source": [
    "# from sklearn.linear_model import LogisticRegression\n",
    "from sklearn.metrics import accuracy_score"
   ]
  },
  {
   "cell_type": "code",
   "execution_count": 79,
   "metadata": {},
   "outputs": [
    {
     "name": "stdout",
     "output_type": "stream",
     "text": [
      "[16:13:49] WARNING: C:/Users/Administrator/workspace/xgboost-win64_release_1.0.0/src/objective/regression_obj.cu:167: reg:linear is now deprecated in favor of reg:squarederror.\n"
     ]
    },
    {
     "data": {
      "text/plain": [
       "XGBClassifier(base_score=0.5, booster=None, colsample_bylevel=1,\n",
       "              colsample_bynode=1, colsample_bytree=1, gamma=0, gpu_id=-1,\n",
       "              importance_type='gain', interaction_constraints=None,\n",
       "              learning_rate=0.05, max_delta_step=0, max_depth=6,\n",
       "              min_child_weight=1, missing=nan, monotone_constraints=None,\n",
       "              n_estimators=70, n_jobs=0, num_parallel_tree=1,\n",
       "              objective='reg:linear', random_state=0, reg_alpha=0, reg_lambda=1,\n",
       "              scale_pos_weight=1, subsample=1, tree_method=None,\n",
       "              validate_parameters=False, verbosity=None)"
      ]
     },
     "execution_count": 79,
     "metadata": {},
     "output_type": "execute_result"
    }
   ],
   "source": [
    "# lr = LogisticRegression()\n",
    "# lr.fit(x_train,y_train)\n",
    "# y_pred_lr = lr.predict(x_test)\n",
    "\n",
    "xgb = XGBClassifier(objective='reg:linear',learning_rate=0.05, n_estimators=70, max_depth=6)\n",
    "xgb.fit(x_train, y_train)"
   ]
  },
  {
   "cell_type": "code",
   "execution_count": 80,
   "metadata": {},
   "outputs": [],
   "source": [
    "y_pred_xgb = xgb.predict(x_test)"
   ]
  },
  {
   "cell_type": "code",
   "execution_count": 81,
   "metadata": {},
   "outputs": [
    {
     "name": "stdout",
     "output_type": "stream",
     "text": [
      "0.8567167951472261\n"
     ]
    }
   ],
   "source": [
    "from sklearn.metrics import f1_score\n",
    "# print(f1_score(test_labels,preds,average=\"macro\"))\n",
    "print(f1_score(y_test,y_pred_xgb,average=\"macro\"))"
   ]
  },
  {
   "cell_type": "code",
   "execution_count": 82,
   "metadata": {},
   "outputs": [
    {
     "name": "stdout",
     "output_type": "stream",
     "text": [
      "The accuracy of the XGB  is 95.54\n"
     ]
    }
   ],
   "source": [
    "print('The accuracy of the XGB  is',round(accuracy_score(y_pred_xgb,y_test)*100,2))"
   ]
  },
  {
   "cell_type": "code",
   "execution_count": 83,
   "metadata": {},
   "outputs": [
    {
     "name": "stdout",
     "output_type": "stream",
     "text": [
      "0.975609756097561\n"
     ]
    }
   ],
   "source": [
    "from sklearn.metrics import f1_score\n",
    "print(f1_score(y_test,y_pred_xgb))"
   ]
  },
  {
   "cell_type": "code",
   "execution_count": 84,
   "metadata": {},
   "outputs": [
    {
     "data": {
      "text/plain": [
       "Index(['tripid', 'additional_fare', 'duration', 'meter_waiting',\n",
       "       'meter_waiting_fare', 'meter_waiting_till_pickup', 'pickup_time',\n",
       "       'drop_time', 'pick_lat', 'pick_lon', 'drop_lat', 'drop_lon', 'fare'],\n",
       "      dtype='object')"
      ]
     },
     "execution_count": 84,
     "metadata": {},
     "output_type": "execute_result"
    }
   ],
   "source": [
    "final_csv.columns"
   ]
  },
  {
   "cell_type": "code",
   "execution_count": 85,
   "metadata": {},
   "outputs": [],
   "source": [
    "find_time(final_csv)"
   ]
  },
  {
   "cell_type": "code",
   "execution_count": 259,
   "metadata": {},
   "outputs": [
    {
     "data": {
      "text/plain": [
       "tripid                       0\n",
       "additional_fare              0\n",
       "duration                     0\n",
       "meter_waiting                0\n",
       "meter_waiting_fare           0\n",
       "meter_waiting_till_pickup    0\n",
       "pickup_time                  0\n",
       "drop_time                    0\n",
       "pick_lat                     0\n",
       "pick_lon                     0\n",
       "drop_lat                     0\n",
       "drop_lon                     0\n",
       "fare                         0\n",
       "time                         0\n",
       "dtype: int64"
      ]
     },
     "execution_count": 259,
     "metadata": {},
     "output_type": "execute_result"
    }
   ],
   "source": [
    "final_csv.isnull().sum()"
   ]
  },
  {
   "cell_type": "code",
   "execution_count": 260,
   "metadata": {},
   "outputs": [],
   "source": [
    "find_distance(final_csv)"
   ]
  },
  {
   "cell_type": "code",
   "execution_count": 261,
   "metadata": {},
   "outputs": [],
   "source": [
    "find_duration(final_csv)"
   ]
  },
  {
   "cell_type": "code",
   "execution_count": 262,
   "metadata": {},
   "outputs": [],
   "source": [
    "final_csv.drop(['pickup_time','drop_time','pick_lat','pick_lon','drop_lat','drop_lon'],axis=1,inplace=True)\n"
   ]
  },
  {
   "cell_type": "code",
   "execution_count": 263,
   "metadata": {},
   "outputs": [],
   "source": [
    "# waiting(final_csv)"
   ]
  },
  {
   "cell_type": "code",
   "execution_count": 264,
   "metadata": {},
   "outputs": [
    {
     "data": {
      "text/html": [
       "<div>\n",
       "<style scoped>\n",
       "    .dataframe tbody tr th:only-of-type {\n",
       "        vertical-align: middle;\n",
       "    }\n",
       "\n",
       "    .dataframe tbody tr th {\n",
       "        vertical-align: top;\n",
       "    }\n",
       "\n",
       "    .dataframe thead th {\n",
       "        text-align: right;\n",
       "    }\n",
       "</style>\n",
       "<table border=\"1\" class=\"dataframe\">\n",
       "  <thead>\n",
       "    <tr style=\"text-align: right;\">\n",
       "      <th></th>\n",
       "      <th>additional_fare</th>\n",
       "      <th>duration</th>\n",
       "      <th>meter_waiting</th>\n",
       "      <th>meter_waiting_fare</th>\n",
       "      <th>meter_waiting_till_pickup</th>\n",
       "      <th>fare</th>\n",
       "      <th>time</th>\n",
       "      <th>distance</th>\n",
       "      <th>speed</th>\n",
       "      <th>fare-time</th>\n",
       "    </tr>\n",
       "  </thead>\n",
       "  <tbody>\n",
       "    <tr>\n",
       "      <th>0</th>\n",
       "      <td>10.5</td>\n",
       "      <td>924</td>\n",
       "      <td>42</td>\n",
       "      <td>2.4486</td>\n",
       "      <td>148</td>\n",
       "      <td>289.27</td>\n",
       "      <td>900.0</td>\n",
       "      <td>6.707807</td>\n",
       "      <td>0.007453</td>\n",
       "      <td>3.049055</td>\n",
       "    </tr>\n",
       "    <tr>\n",
       "      <th>1</th>\n",
       "      <td>10.5</td>\n",
       "      <td>4249</td>\n",
       "      <td>20</td>\n",
       "      <td>0.0000</td>\n",
       "      <td>91</td>\n",
       "      <td>1912.70</td>\n",
       "      <td>4260.0</td>\n",
       "      <td>41.571559</td>\n",
       "      <td>0.009759</td>\n",
       "      <td>2.211011</td>\n",
       "    </tr>\n",
       "    <tr>\n",
       "      <th>2</th>\n",
       "      <td>10.5</td>\n",
       "      <td>1552</td>\n",
       "      <td>255</td>\n",
       "      <td>2.6588</td>\n",
       "      <td>23</td>\n",
       "      <td>394.00</td>\n",
       "      <td>1560.0</td>\n",
       "      <td>5.918535</td>\n",
       "      <td>0.003794</td>\n",
       "      <td>3.291878</td>\n",
       "    </tr>\n",
       "    <tr>\n",
       "      <th>3</th>\n",
       "      <td>10.5</td>\n",
       "      <td>462</td>\n",
       "      <td>16</td>\n",
       "      <td>0.0000</td>\n",
       "      <td>198</td>\n",
       "      <td>154.32</td>\n",
       "      <td>480.0</td>\n",
       "      <td>3.302798</td>\n",
       "      <td>0.006881</td>\n",
       "      <td>2.890098</td>\n",
       "    </tr>\n",
       "    <tr>\n",
       "      <th>4</th>\n",
       "      <td>10.5</td>\n",
       "      <td>814</td>\n",
       "      <td>392</td>\n",
       "      <td>12.3692</td>\n",
       "      <td>69</td>\n",
       "      <td>147.47</td>\n",
       "      <td>840.0</td>\n",
       "      <td>2.589354</td>\n",
       "      <td>0.003083</td>\n",
       "      <td>2.861599</td>\n",
       "    </tr>\n",
       "  </tbody>\n",
       "</table>\n",
       "</div>"
      ],
      "text/plain": [
       "   additional_fare  duration  meter_waiting  meter_waiting_fare  \\\n",
       "0             10.5       924             42              2.4486   \n",
       "1             10.5      4249             20              0.0000   \n",
       "2             10.5      1552            255              2.6588   \n",
       "3             10.5       462             16              0.0000   \n",
       "4             10.5       814            392             12.3692   \n",
       "\n",
       "   meter_waiting_till_pickup     fare    time   distance     speed  fare-time  \n",
       "0                        148   289.27   900.0   6.707807  0.007453   3.049055  \n",
       "1                         91  1912.70  4260.0  41.571559  0.009759   2.211011  \n",
       "2                         23   394.00  1560.0   5.918535  0.003794   3.291878  \n",
       "3                        198   154.32   480.0   3.302798  0.006881   2.890098  \n",
       "4                         69   147.47   840.0   2.589354  0.003083   2.861599  "
      ]
     },
     "execution_count": 264,
     "metadata": {},
     "output_type": "execute_result"
    }
   ],
   "source": [
    "orginal_csv=final_csv.copy()\n",
    "final_csv.drop(['tripid'],axis=1,inplace=True)\n",
    "final_csv.head(n=5)\n"
   ]
  },
  {
   "cell_type": "code",
   "execution_count": 265,
   "metadata": {},
   "outputs": [],
   "source": [
    "y_final_prob = xgb.predict(final_csv)\n"
   ]
  },
  {
   "cell_type": "code",
   "execution_count": 266,
   "metadata": {},
   "outputs": [
    {
     "name": "stdout",
     "output_type": "stream",
     "text": [
      "[1 1 1 ... 1 1 1]\n"
     ]
    }
   ],
   "source": [
    "print(y_final_prob)"
   ]
  },
  {
   "cell_type": "code",
   "execution_count": 267,
   "metadata": {},
   "outputs": [],
   "source": [
    "submission = pd.concat([orginal_csv['tripid'], pd.DataFrame(y_final_prob)], axis=1)\n",
    "submission.columns = ['tripid', 'prediction']"
   ]
  },
  {
   "cell_type": "code",
   "execution_count": 268,
   "metadata": {},
   "outputs": [],
   "source": [
    "submission.to_csv('submission.csv', encoding='utf-8', index = False)"
   ]
  },
  {
   "cell_type": "code",
   "execution_count": null,
   "metadata": {},
   "outputs": [],
   "source": []
  }
 ],
 "metadata": {
  "kernelspec": {
   "display_name": "Python 3",
   "language": "python",
   "name": "python3"
  },
  "language_info": {
   "codemirror_mode": {
    "name": "ipython",
    "version": 3
   },
   "file_extension": ".py",
   "mimetype": "text/x-python",
   "name": "python",
   "nbconvert_exporter": "python",
   "pygments_lexer": "ipython3",
   "version": "3.7.2"
  }
 },
 "nbformat": 4,
 "nbformat_minor": 2
}
